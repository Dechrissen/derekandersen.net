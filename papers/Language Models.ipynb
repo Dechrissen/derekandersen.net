{
 "cells": [
  {
   "cell_type": "markdown",
   "metadata": {
    "id": "YQa3wVJu-4Lk"
   },
   "source": [
    "# Language Models: *n*-grams and PCFGs\n",
    "### Final Project for LIN 538: Statistics for Linguists (Fall 2020)\n",
    "*Derek Andersen and Joanne Chau*  \n",
    "*Stony Brook University*"
   ]
  },
  {
   "cell_type": "markdown",
   "metadata": {
    "id": "BxJjcgvH_T9E"
   },
   "source": [
    "In this project we will train and compare the results of two different types of language models: a **trigram** model and a **PCFG** (probabilistic context-free grammar). In both cases, we will use **perplexity** as a metric for evaluation, and we will compare the two models according to their perplexity values using the Wall Street Journal corpus. "
   ]
  },
  {
   "cell_type": "markdown",
   "metadata": {
    "id": "XxefXBzJAVm9"
   },
   "source": [
    "## Trigram Model\n",
    "A trigram model predicts the probability, *p*, of a word, *w*, occurring next in a sentence, given a history, *h*, of *n – 1* words (in this case, *h = 2*). So our trigram model will be able to predict *p(w | h)*, or more specifically, *p(w3 | w1 w2)*.  \n",
    "  \n",
    "First, we import `nltk` and other necessary libaries. Then we define the functions we'll need: `trigram_model` to train our model, `generate_sentence` to demo sentence generation with our model, and `perplexity` to calculate the perplexity of a model according to a test sentence."
   ]
  },
  {
   "cell_type": "code",
   "execution_count": null,
   "metadata": {
    "id": "dQTw-OrC-gVT"
   },
   "outputs": [],
   "source": [
    "import nltk\n",
    "from nltk import trigrams\n",
    "from collections import Counter, defaultdict\n",
    "import random\n",
    "from pathlib import Path\n",
    "import os\n",
    "\n",
    "# Path to wsj corpus\n",
    "corpus_path = Path(\"C:/Users/Derek/Documents/wsj_corpus\")\n",
    "\n",
    "def trigram_model(corpus_path):\n",
    "    \"\"\"Builds a trigram model trained on a training corpus.\"\"\"\n",
    "    # Smoothing of 0.01 to handle unattested words in test data\n",
    "    model = defaultdict(lambda: defaultdict(lambda: 0.01))\n",
    "    # Training set of 80% of the Wall Street Journal corpus (first 1963 files)\n",
    "    for file in os.listdir(corpus_path)[:1964]:\n",
    "        with open(corpus_path / file, 'r') as current:\n",
    "            sents = current.readlines()\n",
    "            for sentence in sents:\n",
    "                if ('.START' in sentence) or (sentence == '\\n'):\n",
    "                    continue\n",
    "                else:\n",
    "                    sentence = sentence.split()\n",
    "                for w1, w2, w3 in trigrams(sentence, pad_right=True, pad_left=True):\n",
    "                    model[(w1, w2)][w3] += 1\n",
    "\n",
    "    # Transform the counts into probabilities\n",
    "    for w1_w2 in model:\n",
    "        total_count = float(sum(model[w1_w2].values()))\n",
    "        for w3 in model[w1_w2]:\n",
    "            model[w1_w2][w3] /= total_count\n",
    "\n",
    "    return model\n",
    "\n",
    "def generate_sentence(model):\n",
    "    \"\"\"Generates a sentence according to a trigram model.\"\"\"\n",
    "    text = [None, None]\n",
    "    sentence_finished = False\n",
    "\n",
    "    while not sentence_finished:\n",
    "        r = random.random()\n",
    "        accumulator = .0\n",
    "        for word in model[tuple(text[-2:])].keys():\n",
    "            accumulator += model[tuple(text[-2:])][word]\n",
    "            if accumulator >= r:\n",
    "                text.append(word)\n",
    "                break\n",
    "        if text[-2:] == [None, None]:\n",
    "            sentence_finished = True\n",
    "    print(' '.join([t for t in text if t]))\n",
    "\n",
    "def perplexity(test_sent, model):\n",
    "    \"\"\"Computes the perplexity of a trigram model on a test sentence.\"\"\"\n",
    "    test_sent = test_sent.split()\n",
    "    perplexity = 1\n",
    "    N = 0\n",
    "    for w1, w2, w3 in trigrams(test_sent, pad_right=True, pad_left=True):\n",
    "        N += 1\n",
    "        perplexity = perplexity * (1/model[(w1, w2)][w3])\n",
    "    perplexity = pow(perplexity, 1/float(N))\n",
    "    return perplexity\n",
    "\n"
   ]
  },
  {
   "cell_type": "markdown",
   "metadata": {
    "id": "TBVw0TqYZoAV"
   },
   "source": [
    "### Training the model\n",
    "First, we train our model using 80% of the Wall Street Journal corpus and save it as `model`. "
   ]
  },
  {
   "cell_type": "code",
   "execution_count": null,
   "metadata": {
    "id": "kPpgV4zeaQoj"
   },
   "outputs": [],
   "source": [
    "# Create a trigram model according to wsj corpus\n",
    "model = trigram_model(corpus_path)"
   ]
  },
  {
   "cell_type": "markdown",
   "metadata": {
    "id": "2_W7l1oBcYIU"
   },
   "source": [
    "### Testing the model"
   ]
  },
  {
   "cell_type": "markdown",
   "metadata": {
    "id": "UcStET2faXru"
   },
   "source": [
    "Now, as a test, let's look at the probability that a sentence will start with 'The' according to our model."
   ]
  },
  {
   "cell_type": "code",
   "execution_count": null,
   "metadata": {
    "colab": {
     "base_uri": "https://localhost:8080/"
    },
    "id": "G4c9hCoSanSP",
    "outputId": "a6af9632-b059-43c6-c417-4263b4b8c716"
   },
   "outputs": [
    {
     "name": "stdout",
     "output_type": "stream",
     "text": [
      "0.16637225876894499\n"
     ]
    }
   ],
   "source": [
    "# Print the probability that a sentence will start with 'The'\n",
    "print(model[None, None][\"The\"])"
   ]
  },
  {
   "cell_type": "markdown",
   "metadata": {
    "id": "vtALjzJxa1iF"
   },
   "source": [
    "To illustrate how the model will behave when it's asked to predict a word unattested in the training set, let's run this same test with a made-up  word following an *attested* history: 'political concerns'. We can see that the model predicts 0.01, which is treated as 0. This 0.01 is a result of the smoothing we applied when training our model, so that it can handle unattested words in testing."
   ]
  },
  {
   "cell_type": "code",
   "execution_count": null,
   "metadata": {
    "colab": {
     "base_uri": "https://localhost:8080/"
    },
    "id": "BoIbgmLwbQl9",
    "outputId": "2eb2b1be-a7d6-470a-90de-49555575a5b8"
   },
   "outputs": [
    {
     "name": "stdout",
     "output_type": "stream",
     "text": [
      "0.01\n"
     ]
    }
   ],
   "source": [
    "print(model['political', 'concerns']['madeupword'])"
   ]
  },
  {
   "cell_type": "markdown",
   "metadata": {
    "id": "7g4e2SgWb4yi"
   },
   "source": [
    "Now we can use our model to generate a new sentence, to demo its nativeness. Not bad!"
   ]
  },
  {
   "cell_type": "code",
   "execution_count": null,
   "metadata": {
    "colab": {
     "base_uri": "https://localhost:8080/"
    },
    "id": "FnWNy7F9cM9e",
    "outputId": "7a0fa5fe-52ea-401c-86b9-aac5d9a83e9a"
   },
   "outputs": [
    {
     "name": "stdout",
     "output_type": "stream",
     "text": [
      "Consider, for instance, is forecasting growth in the oil-patch state of Alagoas.\n"
     ]
    }
   ],
   "source": [
    "generate_sentence(model)"
   ]
  },
  {
   "cell_type": "markdown",
   "metadata": {
    "id": "U2s5gdVccbwn"
   },
   "source": [
    "### Perplexity\n",
    "The metric we're using for model comparison is **perplexity**. Perplexity is a measure of how good, or in the case of language, how native a model is. A lower perplexity is a correlate of higher nativeness, and ideally a model trained on English data should be able to recognize English sentences well, and thus score lower on the perplexity spectrum.  \n",
    "  \n",
    "The perplexity, *PP*, of a sentence, *s*, can be calculated with the following:  \n",
    "  \n",
    "*PP(s) = p(w1, ..., wn)^(–1/n)*  \n",
    "  \n",
    "We will use a test set of 20% of the Wall Street Journal corpus to evaluate the perplexity of the model. "
   ]
  },
  {
   "cell_type": "code",
   "execution_count": null,
   "metadata": {
    "colab": {
     "base_uri": "https://localhost:8080/"
    },
    "id": "9zwn1plPZYAl",
    "outputId": "80d613dd-2843-401d-fce4-fcd9dbd84dd0"
   },
   "outputs": [
    {
     "name": "stdout",
     "output_type": "stream",
     "text": [
      "Model perplexity on test set: 55.434798009501684\n"
     ]
    }
   ],
   "source": [
    "# Construct a test set of 20% of the Wall Street Journal corpus (files 1964 - 2454)\n",
    "testset = []\n",
    "for file in os.listdir(corpus_path)[1964:2455]:\n",
    "    with open(corpus_path / file, 'r') as current:\n",
    "        sents = current.readlines()\n",
    "        for sentence in sents:\n",
    "            if ('.START' in sentence) or (sentence == '\\n'):\n",
    "                continue\n",
    "            else:\n",
    "                testset.append(sentence)\n",
    "\n",
    "# Calculate the perplexity of the model with the entire test set\n",
    "PP = 0\n",
    "perplexities = []\n",
    "i = 0\n",
    "for sentence in testset:\n",
    "    p = perplexity(sentence, model)\n",
    "    # ignore infinity cases\n",
    "    if p == float(\"inf\"):\n",
    "        continue\n",
    "    i += 1\n",
    "    PP += p\n",
    "# average of perplexities\n",
    "PP = PP / i\n",
    "\n",
    "\n",
    "print('Model perplexity on test set:', PP)"
   ]
  },
  {
   "cell_type": "markdown",
   "metadata": {
    "id": "i2MOUtE0e_sZ"
   },
   "source": [
    "For reference, let's test the same model's perplexity instead using a Jabberwocky sentence (a sentence with several made-up words). We can see that the perplexity is much higher, as we get a value of 100. This is what we would expect considering the lower perplexity value with the English test set of unattested sentences we used earlier."
   ]
  },
  {
   "cell_type": "code",
   "execution_count": null,
   "metadata": {
    "colab": {
     "base_uri": "https://localhost:8080/"
    },
    "id": "Ixub9XZwfan5",
    "outputId": "e484ce9d-f184-47ef-95da-0f137687559d"
   },
   "outputs": [
    {
     "name": "stdout",
     "output_type": "stream",
     "text": [
      "100.00000000000001\n"
     ]
    }
   ],
   "source": [
    "jabberwocky = \"Twas brilig, and the slithy toves Did gyre and gimble in the wabe; All mimsy were the borogoves, And the mome raths outgrabe.\"\n",
    "print(perplexity(jabberwocky, model))"
   ]
  },
  {
   "cell_type": "markdown",
   "metadata": {
    "id": "AuBvfWTNmNKg"
   },
   "source": [
    "## PCFG Model \n",
    "A PCFG model takes a set of training sentences and examines all context free grammar rules. It then saves it as a full list of all productions. \n",
    "\n",
    "In order to have an adequate number of trees to train and test the model, we  saved all `.mrg` files from the Wall Street Journal treebank in the `nltk_data` directory for easier access, since there are already built-in functions in `nltk` for dealing with treebanks.\n",
    "\n",
    "Instead of the 80/20 split we did with the trigram model, the PCFG model will run on a small portion of the training set (60 files) as it takes too long for the full training set to get all the PCFG rules. We will save our model in `grammar`."
   ]
  },
  {
   "cell_type": "code",
   "execution_count": null,
   "metadata": {
    "id": "94JYz3WmqqkG"
   },
   "outputs": [],
   "source": [
    "import nltk\n",
    "from nltk import Tree, PCFG, treetransforms, induce_pcfg, Nonterminal\n",
    "from nltk.corpus import treebank\n",
    "from nltk.parse import pchart, ViterbiParser\n",
    "\n",
    "def make_PCFG_grammar():\n",
    "\n",
    "  '''\n",
    "  Trains a PCFG grammar on the WSJ treebank. \n",
    "  '''\n",
    "\n",
    "  # Save a list of all produced PCFG rules given the test data\n",
    "  PCFG_rules = []\n",
    "\n",
    "  # We'll utilize the Wall Street Journal corpus\n",
    "  for item in treebank.fileids()[:61]:\n",
    "      # We want to first get rid of all non-binary branchings of the tree\n",
    "      for tree in treebank.parsed_sents(item):\n",
    "          tree.collapse_unary(collapsePOS = False)\n",
    "          tree.chomsky_normal_form(horzMarkov = 2)\n",
    "          PCFG_rules += tree.productions()\n",
    "\n",
    "  # Induce the PCFG grammar\n",
    "  S = Nonterminal('S')\n",
    "  PCFG_grammar = induce_pcfg(S, PCFG_rules)\n",
    "\n",
    "  return PCFG_grammar\n",
    "\n",
    "\n",
    "# save our model\n",
    "grammar = make_PCFG_grammar()"
   ]
  },
  {
   "cell_type": "markdown",
   "metadata": {
    "id": "ka9pSca_YPo4"
   },
   "source": [
    "### Test set \n",
    "\n",
    "With our PCFG grammar, we can use the built-in `ViterbiParser` function available in `nltk` to build a CKY parser applicable to our PCFG rules. Using this, we can run test trees through it to find their most probable parses. "
   ]
  },
  {
   "cell_type": "code",
   "execution_count": null,
   "metadata": {
    "colab": {
     "base_uri": "https://localhost:8080/"
    },
    "id": "ZWdE8HqkYceb",
    "outputId": "95092ced-7d85-40a0-9777-b9760c5ae52e"
   },
   "outputs": [
    {
     "name": "stdout",
     "output_type": "stream",
     "text": [
      "(S\n",
      "  (NP-SBJ-27\n",
      "    (NP (NNP Pierre) (NNP Vinken))\n",
      "    (NP-SBJ-27|<,-ADJP>\n",
      "      (, ,)\n",
      "      (NP-SBJ-27|<ADJP-,>\n",
      "        (ADJP (NP (CD 61) (NNS years)) (JJ old))\n",
      "        (, ,))))\n",
      "  (S|<VP-.>\n",
      "    (VP\n",
      "      (MD will)\n",
      "      (VP\n",
      "        (VB join)\n",
      "        (VP|<NP-PP-LOC>\n",
      "          (NP (DT the) (NN board))\n",
      "          (VP|<PP-LOC-NP-TMP>\n",
      "            (PP-LOC\n",
      "              (IN as)\n",
      "              (NP\n",
      "                (DT a)\n",
      "                (NP|<JJ-NN>\n",
      "                  (JJ nonexecutive)\n",
      "                  (NN director))))\n",
      "            (NP-TMP (NNP Nov.) (CD 29))))))\n",
      "    (. .))) (p=2.39483e-50)\n",
      "(S\n",
      "  (NP-SBJ (NNP Mr.) (NNP Vinken))\n",
      "  (S|<VP-.>\n",
      "    (VP\n",
      "      (VBZ is)\n",
      "      (NP-PRD\n",
      "        (NP (NN chairman))\n",
      "        (PP\n",
      "          (IN of)\n",
      "          (NP\n",
      "            (NP (NNP Elsevier) (NNP N.V.))\n",
      "            (NP|<,-NP>\n",
      "              (, ,)\n",
      "              (NP\n",
      "                (DT the)\n",
      "                (NP|<NNP-VBG>\n",
      "                  (NNP Dutch)\n",
      "                  (NP|<VBG-NN> (VBG publishing) (NN group)))))))))\n",
      "    (. .))) (p=2.27472e-37)\n",
      "Total skipped sentences: 0\n"
     ]
    }
   ],
   "source": [
    "def CKY_parser(PCFG_grammar):\n",
    "\n",
    "    '''\n",
    "    Given the PCFG grammar, we use the built in CKY praser function\n",
    "    to get a sentence's most probable parse\n",
    "    '''\n",
    "\n",
    "    # Utilize the ViertabiParser given the PCFG grammar induction rules\n",
    "    parser = ViterbiParser(PCFG_grammar)\n",
    "\n",
    "    # Sample file parse for reference \n",
    "    sentences = treebank.parsed_sents('wsj_0001.mrg')\n",
    "\n",
    "    skipped_sentences = 0\n",
    "\n",
    "    # A for loop to get all possible trees within the files \n",
    "    for sentence in sentences:\n",
    "        sentence = sentence.leaves()\n",
    "        \n",
    "        # To speed up the code, we'll check with the grammar first \n",
    "        # And ensure that all words are accounted for\n",
    "        # If it is not accounted for, skip the sentence \n",
    "        # And increment skipped_sentences\n",
    "        try:\n",
    "            PCFG_grammar.check_coverage(sentence)\n",
    "            \n",
    "            # Print the final parse of the sentence \n",
    "            for parse in parser.parse(sentence):\n",
    "                print(parse)\n",
    "        except:\n",
    "            skipped_sentences += 1\n",
    "            continue\n",
    "\n",
    "    print(\"Total skipped sentences:\", skipped_sentences)\n",
    "\n",
    "\n",
    "# demo the parser\n",
    "CKY_parser(grammar)  "
   ]
  },
  {
   "cell_type": "markdown",
   "metadata": {
    "id": "ywV-yon3S6Ox"
   },
   "source": [
    "We can see two output parses above, along with their probabilities (*p* values). These two sentences are present in the model's training set and thus all of their vocabulary is attested."
   ]
  },
  {
   "cell_type": "markdown",
   "metadata": {
    "id": "QQ6Qy6-iY7sb"
   },
   "source": [
    "### Perplexity\n",
    "\n",
    "In order to calculate the perplexity of the PCFG model, run all testing set and then save all probabilities for the best parse. \n",
    "\n",
    "We will save the probabilities into a list of probabilities for reference. Then we utilize that to calculate the perplexity of the model. \n",
    "\n",
    "#### Issues with testing\n",
    "Unfortunately, with our training set, the amount of time it takes to test on the model increases exponentially and it is not feasible to run all of the tests. In our case, we used 2 files from the test set."
   ]
  },
  {
   "cell_type": "code",
   "execution_count": null,
   "metadata": {
    "id": "zuqTocgSY_q5"
   },
   "outputs": [],
   "source": [
    "import re\n",
    "\n",
    "def all_parse_probabilities(PCFG_grammar):\n",
    "  \n",
    "  '''\n",
    "  Given the PCFG grammar, we utilize the CKY parser to get \n",
    "  the test set's parse probabilties. \n",
    "  '''\n",
    "\n",
    "  parser = ViterbiParser(PCFG_grammar)\n",
    "  # Make a list to save all extracted parse probabilities \n",
    "  all_p = []\n",
    "\n",
    "  # 2 test files\n",
    "  for item in treebank.fileids()[1964:1966]:\n",
    "      trees = treebank.parsed_sents(item)\n",
    "      for tree in trees:\n",
    "        tree = tree.leaves()\n",
    "        try:\n",
    "          PCFG_grammar.check_coverage(tree)\n",
    "\n",
    "          # Change the parsed tree from a tree to a string \n",
    "          # Use regular expression to find the correct chunk\n",
    "          # Delete the last character and then append to the all_p list\n",
    "          for parse in parser.parse(tree):\n",
    "            parse_string = str(parse)\n",
    "            p = re.search(r\"p=([^/]+)\", parse_string).group(1)\n",
    "            p = p[:-1]\n",
    "            all_p.append(float(p))\n",
    "        except:\n",
    "          continue\n",
    "\n",
    "  return all_p\n",
    "\n",
    "\n",
    "# get the probabilities of our test trees\n",
    "all_p = all_parse_probabilities(grammar)"
   ]
  },
  {
   "cell_type": "code",
   "execution_count": null,
   "metadata": {
    "colab": {
     "base_uri": "https://localhost:8080/"
    },
    "id": "n3zrraA1AmH5",
    "outputId": "839123b4-014e-4097-e4dc-4e66a7ac8a09"
   },
   "outputs": [
    {
     "name": "stdout",
     "output_type": "stream",
     "text": [
      "Model perplexity on test set: 5.614793240381743e+45\n"
     ]
    }
   ],
   "source": [
    "def perplexity(all_p): \n",
    "\n",
    "    '''\n",
    "    Given a list of the probabilities of all parses from the testing set,\n",
    "    this calculates the perplexity of the model.\n",
    "    '''\n",
    "  \n",
    "    perplexity = 1\n",
    "\n",
    "    # N is the total number of probabilities \n",
    "    N = float(len(all_p))\n",
    "    for p in all_p:\n",
    "        # ignore infinity cases\n",
    "        if perplexity * (1/p) == float(\"inf\"):\n",
    "            continue\n",
    "        perplexity = perplexity * (1/p)\n",
    "    perplexity = pow(perplexity, 1/float(N))\n",
    "    return perplexity\n",
    "\n",
    "\n",
    "# calculate perplexity for our test set\n",
    "print(\"Model perplexity on test set:\", perplexity(all_p))"
   ]
  },
  {
   "cell_type": "markdown",
   "metadata": {
    "id": "Y8gc3BrJVeMM"
   },
   "source": [
    "The model perplexity on our small test set comes out to be about 5e+45. Unfortunately, this is not an accurate representation of the PCFG model's comparison to the trigram model, since the train/test sets had to be reduced. But from this evaluation, the PCFG model appears to perform worse than the trigram model, since its perplexity is much higher."
   ]
  },
  {
   "cell_type": "markdown",
   "metadata": {
    "id": "MAOm6eMDBiIR"
   },
   "source": [
    "## References\n",
    "\n",
    "\n",
    "*   https://www.analyticsvidhya.com/blog/2019/08/comprehensive-guide-language-model-nlp-python-code/\n",
    "*   https://nlpforhackers.io/language-models/\n",
    "* https://www.cs.bgu.ac.il/~elhadad/nlp16/NLTK-PCFG.html\n",
    "* https://www.asc.ohio-state.edu/demarneffe.1/LING5050/material/structured.html\n",
    "\n",
    "\n"
   ]
  }
 ],
 "metadata": {
  "colab": {
   "collapsed_sections": [],
   "name": "LIN538_final.ipynb",
   "provenance": []
  },
  "kernelspec": {
   "display_name": "Python 3",
   "language": "python",
   "name": "python3"
  },
  "language_info": {
   "codemirror_mode": {
    "name": "ipython",
    "version": 3
   },
   "file_extension": ".py",
   "mimetype": "text/x-python",
   "name": "python",
   "nbconvert_exporter": "python",
   "pygments_lexer": "ipython3",
   "version": "3.8.5"
  }
 },
 "nbformat": 4,
 "nbformat_minor": 1
}
