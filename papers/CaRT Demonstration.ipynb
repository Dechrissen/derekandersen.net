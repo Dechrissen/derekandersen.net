{
  "nbformat": 4,
  "nbformat_minor": 0,
  "metadata": {
    "colab": {
      "name": "CaRT_Classification_Example.ipynb",
      "provenance": [],
      "collapsed_sections": [],
      "toc_visible": true
    },
    "kernelspec": {
      "name": "python3",
      "display_name": "Python 3"
    }
  },
  "cells": [
    {
      "cell_type": "code",
      "metadata": {
        "id": "sojEFzuz21bR",
        "colab": {
          "base_uri": "https://localhost:8080/"
        },
        "outputId": "723c39f4-a0ad-40bd-ec16-2a82f050a205"
      },
      "source": [
        "from google.colab import drive\n",
        "drive.mount('/content/drive')"
      ],
      "execution_count": null,
      "outputs": [
        {
          "output_type": "stream",
          "text": [
            "Drive already mounted at /content/drive; to attempt to forcibly remount, call drive.mount(\"/content/drive\", force_remount=True).\n"
          ],
          "name": "stdout"
        }
      ]
    },
    {
      "cell_type": "markdown",
      "metadata": {
        "id": "t7m8T0mW-hWA"
      },
      "source": [
        "# CaRT Example: Classification Tree"
      ]
    },
    {
      "cell_type": "markdown",
      "metadata": {
        "id": "Krv5DM2ZEob3"
      },
      "source": [
        "## `chefboost` package\n",
        "`chefboost` is a simple to use Python package for building decision tree models that supports ID3, C4.5, CART, CHAID and regression tree algorithms."
      ]
    },
    {
      "cell_type": "code",
      "metadata": {
        "id": "Nu-MRWnK5xOL",
        "colab": {
          "base_uri": "https://localhost:8080/"
        },
        "outputId": "20a9e3a7-6bc2-48a9-bceb-96880987a836"
      },
      "source": [
        "# Install chefboost package\n",
        "!pip install chefboost"
      ],
      "execution_count": null,
      "outputs": [
        {
          "output_type": "stream",
          "text": [
            "Requirement already satisfied: chefboost in /usr/local/lib/python3.6/dist-packages (0.0.6)\n",
            "Requirement already satisfied: numpy>=1.14.0 in /usr/local/lib/python3.6/dist-packages (from chefboost) (1.18.5)\n",
            "Requirement already satisfied: tqdm>=4.30.0 in /usr/local/lib/python3.6/dist-packages (from chefboost) (4.41.1)\n",
            "Requirement already satisfied: pandas>=0.22.0 in /usr/local/lib/python3.6/dist-packages (from chefboost) (1.1.4)\n",
            "Requirement already satisfied: python-dateutil>=2.7.3 in /usr/local/lib/python3.6/dist-packages (from pandas>=0.22.0->chefboost) (2.8.1)\n",
            "Requirement already satisfied: pytz>=2017.2 in /usr/local/lib/python3.6/dist-packages (from pandas>=0.22.0->chefboost) (2018.9)\n",
            "Requirement already satisfied: six>=1.5 in /usr/local/lib/python3.6/dist-packages (from python-dateutil>=2.7.3->pandas>=0.22.0->chefboost) (1.15.0)\n"
          ],
          "name": "stdout"
        }
      ]
    },
    {
      "cell_type": "markdown",
      "metadata": {
        "id": "UJJLMu1sEVwx"
      },
      "source": [
        "## A glance at the golf dataset"
      ]
    },
    {
      "cell_type": "code",
      "metadata": {
        "id": "S1Md9k1L45H2",
        "colab": {
          "base_uri": "https://localhost:8080/",
          "height": 489
        },
        "outputId": "1edcd42f-b7d5-43ad-9771-cb6183a0b7e2"
      },
      "source": [
        "from chefboost import Chefboost as chef\n",
        "import pandas as pd\n",
        "\n",
        "# Load the dataset\n",
        "df = pd.read_csv(\"drive/My Drive/chefboost-master/tests/dataset/golf.txt\")\n",
        "\n",
        "# View the dataset\n",
        "df\n"
      ],
      "execution_count": null,
      "outputs": [
        {
          "output_type": "execute_result",
          "data": {
            "text/html": [
              "<div>\n",
              "<style scoped>\n",
              "    .dataframe tbody tr th:only-of-type {\n",
              "        vertical-align: middle;\n",
              "    }\n",
              "\n",
              "    .dataframe tbody tr th {\n",
              "        vertical-align: top;\n",
              "    }\n",
              "\n",
              "    .dataframe thead th {\n",
              "        text-align: right;\n",
              "    }\n",
              "</style>\n",
              "<table border=\"1\" class=\"dataframe\">\n",
              "  <thead>\n",
              "    <tr style=\"text-align: right;\">\n",
              "      <th></th>\n",
              "      <th>Outlook</th>\n",
              "      <th>Temp.</th>\n",
              "      <th>Humidity</th>\n",
              "      <th>Wind</th>\n",
              "      <th>Decision</th>\n",
              "    </tr>\n",
              "  </thead>\n",
              "  <tbody>\n",
              "    <tr>\n",
              "      <th>0</th>\n",
              "      <td>Sunny</td>\n",
              "      <td>Hot</td>\n",
              "      <td>High</td>\n",
              "      <td>Weak</td>\n",
              "      <td>No</td>\n",
              "    </tr>\n",
              "    <tr>\n",
              "      <th>1</th>\n",
              "      <td>Sunny</td>\n",
              "      <td>Hot</td>\n",
              "      <td>High</td>\n",
              "      <td>Strong</td>\n",
              "      <td>No</td>\n",
              "    </tr>\n",
              "    <tr>\n",
              "      <th>2</th>\n",
              "      <td>Overcast</td>\n",
              "      <td>Hot</td>\n",
              "      <td>High</td>\n",
              "      <td>Weak</td>\n",
              "      <td>Yes</td>\n",
              "    </tr>\n",
              "    <tr>\n",
              "      <th>3</th>\n",
              "      <td>Rain</td>\n",
              "      <td>Mild</td>\n",
              "      <td>High</td>\n",
              "      <td>Weak</td>\n",
              "      <td>Yes</td>\n",
              "    </tr>\n",
              "    <tr>\n",
              "      <th>4</th>\n",
              "      <td>Rain</td>\n",
              "      <td>Cool</td>\n",
              "      <td>Normal</td>\n",
              "      <td>Weak</td>\n",
              "      <td>Yes</td>\n",
              "    </tr>\n",
              "    <tr>\n",
              "      <th>5</th>\n",
              "      <td>Rain</td>\n",
              "      <td>Cool</td>\n",
              "      <td>Normal</td>\n",
              "      <td>Strong</td>\n",
              "      <td>No</td>\n",
              "    </tr>\n",
              "    <tr>\n",
              "      <th>6</th>\n",
              "      <td>Overcast</td>\n",
              "      <td>Cool</td>\n",
              "      <td>Normal</td>\n",
              "      <td>Strong</td>\n",
              "      <td>Yes</td>\n",
              "    </tr>\n",
              "    <tr>\n",
              "      <th>7</th>\n",
              "      <td>Sunny</td>\n",
              "      <td>Mild</td>\n",
              "      <td>High</td>\n",
              "      <td>Weak</td>\n",
              "      <td>No</td>\n",
              "    </tr>\n",
              "    <tr>\n",
              "      <th>8</th>\n",
              "      <td>Sunny</td>\n",
              "      <td>Cool</td>\n",
              "      <td>Normal</td>\n",
              "      <td>Weak</td>\n",
              "      <td>Yes</td>\n",
              "    </tr>\n",
              "    <tr>\n",
              "      <th>9</th>\n",
              "      <td>Rain</td>\n",
              "      <td>Mild</td>\n",
              "      <td>Normal</td>\n",
              "      <td>Weak</td>\n",
              "      <td>Yes</td>\n",
              "    </tr>\n",
              "    <tr>\n",
              "      <th>10</th>\n",
              "      <td>Sunny</td>\n",
              "      <td>Mild</td>\n",
              "      <td>Normal</td>\n",
              "      <td>Strong</td>\n",
              "      <td>Yes</td>\n",
              "    </tr>\n",
              "    <tr>\n",
              "      <th>11</th>\n",
              "      <td>Overcast</td>\n",
              "      <td>Mild</td>\n",
              "      <td>High</td>\n",
              "      <td>Strong</td>\n",
              "      <td>Yes</td>\n",
              "    </tr>\n",
              "    <tr>\n",
              "      <th>12</th>\n",
              "      <td>Overcast</td>\n",
              "      <td>Hot</td>\n",
              "      <td>Normal</td>\n",
              "      <td>Weak</td>\n",
              "      <td>Yes</td>\n",
              "    </tr>\n",
              "    <tr>\n",
              "      <th>13</th>\n",
              "      <td>Rain</td>\n",
              "      <td>Mild</td>\n",
              "      <td>High</td>\n",
              "      <td>Strong</td>\n",
              "      <td>No</td>\n",
              "    </tr>\n",
              "  </tbody>\n",
              "</table>\n",
              "</div>"
            ],
            "text/plain": [
              "     Outlook Temp. Humidity    Wind Decision\n",
              "0      Sunny   Hot     High    Weak       No\n",
              "1      Sunny   Hot     High  Strong       No\n",
              "2   Overcast   Hot     High    Weak      Yes\n",
              "3       Rain  Mild     High    Weak      Yes\n",
              "4       Rain  Cool   Normal    Weak      Yes\n",
              "5       Rain  Cool   Normal  Strong       No\n",
              "6   Overcast  Cool   Normal  Strong      Yes\n",
              "7      Sunny  Mild     High    Weak       No\n",
              "8      Sunny  Cool   Normal    Weak      Yes\n",
              "9       Rain  Mild   Normal    Weak      Yes\n",
              "10     Sunny  Mild   Normal  Strong      Yes\n",
              "11  Overcast  Mild     High  Strong      Yes\n",
              "12  Overcast   Hot   Normal    Weak      Yes\n",
              "13      Rain  Mild     High  Strong       No"
            ]
          },
          "metadata": {
            "tags": []
          },
          "execution_count": 8
        }
      ]
    },
    {
      "cell_type": "markdown",
      "metadata": {
        "id": "5ylYh20EQ8ZH"
      },
      "source": [
        "## Training the model"
      ]
    },
    {
      "cell_type": "markdown",
      "metadata": {
        "id": "xa24vRvt_A1n"
      },
      "source": [
        "We can use `chefboost` to train a CaRT model with the golf dataset and save it in the `model` variable."
      ]
    },
    {
      "cell_type": "code",
      "metadata": {
        "id": "kAmz2_H6Aov-",
        "colab": {
          "base_uri": "https://localhost:8080/"
        },
        "outputId": "572c82e9-5d42-451c-830c-bcb817009f51"
      },
      "source": [
        "config = {'algorithm': 'CART'} # Using the CART algorithm\n",
        "model = chef.fit(df.copy(), config)"
      ],
      "execution_count": null,
      "outputs": [
        {
          "output_type": "stream",
          "text": [
            "CART  tree is going to be built...\n",
            "Accuracy:  100.0 % on  14  instances\n",
            "finished in  0.07850146293640137  seconds\n"
          ],
          "name": "stdout"
        }
      ]
    },
    {
      "cell_type": "markdown",
      "metadata": {
        "id": "NIrWZ41mRKJE"
      },
      "source": [
        "## Testing the model"
      ]
    },
    {
      "cell_type": "markdown",
      "metadata": {
        "id": "tOmzpeaJCLLr"
      },
      "source": [
        "Now we can create some dummy data to evaluate with our trained model."
      ]
    },
    {
      "cell_type": "code",
      "metadata": {
        "id": "tAy7XCgtAq57",
        "colab": {
          "base_uri": "https://localhost:8080/"
        },
        "outputId": "e1d5eb06-5cbc-4dca-a265-ccbcfacce5fd"
      },
      "source": [
        "# Instances are of the form [Outlook, Temp, Humidity, Wind]\n",
        "test_set = [\n",
        "            ['Sunny', 'Cool', 'High', 'Strong'],\n",
        "            ['Sunny', 'Cool', 'High', 'Weak'],\n",
        "            ['Overcast', 'Cool', 'High', 'Weak'],\n",
        "            ['Overcast', 'Mild', 'Normal', 'Weak'],\n",
        "            ['Rain', 'Hot', 'Normal', 'Strong'],\n",
        "            ['Rain', 'Hot', 'High', 'Weak']\n",
        "]\n",
        "\n",
        "# Evaluate\n",
        "print(\"Predictions:\")\n",
        "for instance in test_set:\n",
        "  print(instance, \"decision:\", chef.predict(model, instance))"
      ],
      "execution_count": null,
      "outputs": [
        {
          "output_type": "stream",
          "text": [
            "Predictions:\n",
            "['Sunny', 'Cool', 'High', 'Strong'] decision: No\n",
            "['Sunny', 'Cool', 'High', 'Weak'] decision: No\n",
            "['Overcast', 'Cool', 'High', 'Weak'] decision: Yes\n",
            "['Overcast', 'Mild', 'Normal', 'Weak'] decision: Yes\n",
            "['Rain', 'Hot', 'Normal', 'Strong'] decision: No\n",
            "['Rain', 'Hot', 'High', 'Weak'] decision: Yes\n"
          ],
          "name": "stdout"
        }
      ]
    }
  ]
}